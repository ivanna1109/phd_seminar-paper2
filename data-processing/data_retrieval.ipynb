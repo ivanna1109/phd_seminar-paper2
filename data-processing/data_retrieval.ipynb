{
 "cells": [
  {
   "cell_type": "code",
   "execution_count": 4,
   "id": "8dfc480d-87e2-4715-b703-e83d65c92b06",
   "metadata": {},
   "outputs": [],
   "source": [
    "from tqdm import tqdm\n",
    "import requests\n",
    "import pandas as pd\n",
    "import numpy as np"
   ]
  },
  {
   "cell_type": "code",
   "execution_count": 9,
   "id": "e8177b57-487a-473f-89b9-b22b7a2bf301",
   "metadata": {},
   "outputs": [],
   "source": [
    "assays_binders = [\n",
    "    \"NVS_NR_bER\", #ESR1\t\n",
    "    \"NVS_NR_hER\", #ESR1\t\n",
    "    \"NVS_NR_mERa\",\t#ESR1\t\n",
    "    \"OT_ER_ERaERa_0480\", # ESR1\t\t\n",
    "    \"OT_ER_ERaERa_1440\", # ESR1\t\n",
    "    \"OT_ER_ERaERb_0480\", # ESR1/ESR2\n",
    "    \"OT_ER_ERaERb_1440\", # ESR1/ESR2\t\n",
    "    \"OT_ER_ERbERb_0480\", # ESR2\t\n",
    "    \"OT_ER_ERbERb_1440\", # ESR2\n",
    "    \"OT_ERa_GFPERaERE_0120\",# ESR1\t\n",
    "    \"OT_ERa_GFPERaERE_0480\", # ESR1\t\n",
    "    \"ATG_ERa_TRANS_up\", #ESR1\n",
    "    \"ATG_ERE_CIS_up\", #ESR1\n",
    "    \"ACEA_T47D_80hr_Positive\", #ESR1 \n",
    "]"
   ]
  },
  {
   "cell_type": "code",
   "execution_count": 19,
   "id": "d3a4010c",
   "metadata": {},
   "outputs": [],
   "source": [
    "assays_aa = [\n",
    "    \"Tox21_ERa_BLA_Agonist_ratio\",\t#agonist ESR1\n",
    "    \"Tox21_ERa_LUC_BG1_Agonist\", #agonist ESR1\n",
    "    \"Tox21_ERa_BLA_Antagonist_ratio\",\t#Tox21\tESR1- antagonist ESR1\n",
    "    \"Tox21_ERa_LUC_BG1_Antagonist\", #Tox21\tESR1\t- antagonist ESR1\n",
    "]"
   ]
  },
  {
   "cell_type": "code",
   "execution_count": 20,
   "id": "a7a828e4",
   "metadata": {},
   "outputs": [],
   "source": [
    "esr_class = [\n",
    "    \"agonist-ESR1\",\n",
    "    \"agonist-ESR1\",\n",
    "    \"antagonist-ESR1\",\n",
    "    \"antagonist-ESR1\",\n",
    "]"
   ]
  },
  {
   "cell_type": "code",
   "execution_count": 21,
   "id": "6c40b77b",
   "metadata": {},
   "outputs": [],
   "source": [
    "base_url = \"https://comptox.epa.gov/dashboard-api/ccdapp2/assay-list-details/search/by-endpointname?name=[name]&size=[size]&page=[page]\""
   ]
  },
  {
   "cell_type": "code",
   "execution_count": null,
   "id": "f847158f-fe58-4cd5-9c7f-18b7ca517729",
   "metadata": {},
   "outputs": [
    {
     "name": "stdout",
     "output_type": "stream",
     "text": [
      "Tox21_ERa_BLA_Agonist_ratio -> Total elements: 0, pages: 1\n",
      "Tox21_ERa_BLA_Agonist_ratio -> HTTP200, Page: 0\n",
      "Saved Tox21_ERa_BLA_Agonist_ratio -> data/aa/Tox21_ERa_BLA_Agonist_ratio.csv\n",
      "Tox21_ERa_LUC_BG1_Agonist -> Total elements: 0, pages: 1\n",
      "Tox21_ERa_LUC_BG1_Agonist -> HTTP200, Page: 0\n",
      "Saved Tox21_ERa_LUC_BG1_Agonist -> data/aa/Tox21_ERa_LUC_BG1_Agonist.csv\n",
      "Tox21_ERa_BLA_Antagonist_ratio -> Total elements: 0, pages: 1\n",
      "Tox21_ERa_BLA_Antagonist_ratio -> HTTP200, Page: 0\n",
      "Saved Tox21_ERa_BLA_Antagonist_ratio -> data/aa/Tox21_ERa_BLA_Antagonist_ratio.csv\n",
      "Tox21_ERa_LUC_BG1_Antagonist -> Total elements: 0, pages: 1\n",
      "Tox21_ERa_LUC_BG1_Antagonist -> HTTP200, Page: 0\n",
      "Saved Tox21_ERa_LUC_BG1_Antagonist -> data/aa/Tox21_ERa_LUC_BG1_Antagonist.csv\n",
      "Number of retrieved csv-s: 4\n"
     ]
    }
   ],
   "source": [
    "count = 0\n",
    "for assay in assays_binders:\n",
    "    jsons = []\n",
    "    probe_resp = requests.get(base_url\n",
    "                              .replace(\"[name]\", assay.strip())\n",
    "                              .replace(\"[page]\", \"1\")\n",
    "                              .replace(\"[size]\", \"1\"))\n",
    "    elements = int(probe_resp.json()['page']['totalElements'])\n",
    "    pages = elements // 1000 + 1\n",
    "    print(f\"{assay} -> Total elements: {elements}, pages: {pages}\")\n",
    "    for page in range(0, pages):\n",
    "        resp = requests.get(base_url\n",
    "                                  .replace(\"[name]\", assay.strip())\n",
    "                                  .replace(\"[page]\", str(page))\n",
    "                                  .replace(\"[size]\", \"1000\"))\n",
    "        if resp.status_code == 200:\n",
    "            print(f\"{assay} -> HTTP{resp.status_code}, Page: {page}\")\n",
    "            jsons.append(resp.json())\n",
    "        else:\n",
    "            print(f\"ERROR: {assay} -> HTTP{resp.status_code}\")\n",
    "\n",
    "    json = jsons[0]['_embedded']['assayListDetails']\n",
    "\n",
    "    for i in range(1, len(jsons)):\n",
    "        json.extend(jsons[i]['_embedded']['assayListDetails'])\n",
    "\n",
    "    df = pd.DataFrame(json)\n",
    "\n",
    "    assert len(df) == elements\n",
    "\n",
    "    path = f\"data/binders/{assay}-{esr_class[count]}.csv\"\n",
    "    #path = f\"data/aa/{assay}.csv\"\n",
    "    print(f\"Saved {assay} -> {path}\")\n",
    "    df.to_csv(path, index=False)\n",
    "    count+=1\n",
    "\n",
    "print(f\"Number of retrieved csv-s: {count}\")\n"
   ]
  }
 ],
 "metadata": {
  "kernelspec": {
   "display_name": ".venv",
   "language": "python",
   "name": "python3"
  },
  "language_info": {
   "codemirror_mode": {
    "name": "ipython",
    "version": 3
   },
   "file_extension": ".py",
   "mimetype": "text/x-python",
   "name": "python",
   "nbconvert_exporter": "python",
   "pygments_lexer": "ipython3",
   "version": "3.12.3"
  }
 },
 "nbformat": 4,
 "nbformat_minor": 5
}
