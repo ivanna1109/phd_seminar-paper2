{
 "cells": [
  {
   "cell_type": "markdown",
   "id": "1dd304d2",
   "metadata": {},
   "source": [
    "### Use base conda env"
   ]
  },
  {
   "cell_type": "code",
   "execution_count": 1,
   "id": "be874ef9",
   "metadata": {},
   "outputs": [],
   "source": [
    "import pandas as pd\n",
    "import matplotlib.pyplot as plt\n",
    "import seaborn as sns\n",
    "import os"
   ]
  },
  {
   "cell_type": "code",
   "execution_count": 2,
   "id": "5a5b03bb",
   "metadata": {},
   "outputs": [],
   "source": [
    "def plot_training_metrics(csv_file_path: str, output_dir: str = 'training_plots'):\n",
    "    if not os.path.exists(csv_file_path):\n",
    "        print(f\"Greška: Fajl '{csv_file_path}' ne postoji.\")\n",
    "        return\n",
    "\n",
    "    try:\n",
    "        df = pd.read_csv(csv_file_path)\n",
    "    except Exception as e:\n",
    "        print(f\"Greška pri čitanju CSV fajla '{csv_file_path}': {e}\")\n",
    "        return\n",
    "\n",
    "    expected_metrics = [\n",
    "        'loss', 'accuracy', 'f1_score', 'roc_auc', 'average_precision'\n",
    "    ]\n",
    "    \n",
    "    if 'lr' in df.columns:\n",
    "        metrics_to_plot = expected_metrics + ['lr']\n",
    "    else:\n",
    "        metrics_to_plot = expected_metrics\n",
    "\n",
    "    for metric_name in expected_metrics:\n",
    "        if metric_name not in df.columns: #or f'val_{metric_name}' not in df.columns:\n",
    "            print(f\"Upozorenje: Kolone '{metric_name}' ili 'val_{metric_name}' nisu pronađene. Preskačem plot za '{metric_name}'.\")\n",
    "            continue\n",
    "\n",
    "        plt.figure(figsize=(10, 6))\n",
    "        sns.lineplot(data=df, x=df.index, y=metric_name, label=f'Trening {metric_name.replace(\"_\", \" \").title()}')\n",
    "        #sns.lineplot(data=df, x=df.index, y=f'val_{metric_name}', label=f'Validacija {metric_name.replace(\"_\", \" \").title()}')\n",
    "        plt.title(f'{metric_name.replace(\"_\", \" \").title()} tokom Treninga')\n",
    "        plt.xlabel('Epoha')\n",
    "        plt.ylabel(metric_name.replace(\"_\", \" \").title())\n",
    "        plt.legend()\n",
    "        plt.grid(True)\n",
    "        \n",
    "        # Kreiraj direktorijum za izlazne plotove ako ne postoji\n",
    "        os.makedirs(output_dir, exist_ok=True)\n",
    "        plot_path = os.path.join(output_dir, f'{metric_name}_plot.png')\n",
    "        plt.savefig(plot_path)\n",
    "        print(f\"Sačuvan plot za '{metric_name}' na: {plot_path}\")\n",
    "        plt.close() # Zatvori plot da ne zauzima memoriju\n",
    "\n",
    "    # Poseban plot za Learning Rate ako postoji\n",
    "    if 'lr' in df.columns:\n",
    "        plt.figure(figsize=(10, 6))\n",
    "        sns.lineplot(data=df, x=df.index, y='lr', label='Learning Rate')\n",
    "        plt.title('Learning Rate tokom Treninga')\n",
    "        plt.xlabel('Epoha')\n",
    "        plt.ylabel('Learning Rate')\n",
    "        plt.grid(True)\n",
    "        plot_path = os.path.join(output_dir, 'learning_rate_plot.png')\n",
    "        plt.savefig(plot_path)\n",
    "        print(f\"Sačuvan plot za 'lr' na: {plot_path}\")\n",
    "        plt.close()\n",
    "\n",
    "    print(\"\\nVizualizacija metrika završena.\")"
   ]
  },
  {
   "cell_type": "code",
   "execution_count": 5,
   "id": "a89acb95",
   "metadata": {},
   "outputs": [],
   "source": [
    "import os\n",
    "import pandas as pd\n",
    "import matplotlib.pyplot as plt\n",
    "import seaborn as sns\n",
    "import math\n",
    "\n",
    "def plot_training_metrics_subplots(csv_file_path: str, output_path: str = 'training_summary_plots.png'):\n",
    "    \"\"\"\n",
    "    Učitava metrike treninga i validacije iz CSV fajla i prikazuje ih kao subplotove\n",
    "    na jednoj velikoj figuri.\n",
    "    \"\"\"\n",
    "    if not os.path.exists(csv_file_path):\n",
    "        print(f\"Greška: Fajl '{csv_file_path}' ne postoji.\")\n",
    "        return\n",
    "\n",
    "    try:\n",
    "        df = pd.read_csv(csv_file_path)\n",
    "    except Exception as e:\n",
    "        print(f\"Greška pri čitanju CSV fajla '{csv_file_path}': {e}\")\n",
    "        return\n",
    "\n",
    "    expected_metrics = [\n",
    "        'loss', 'accuracy', 'f1_score', 'roc_auc', 'average_precision'\n",
    "    ]\n",
    "    \n",
    "    existing_metrics = []\n",
    "    \n",
    "    for metric in expected_metrics:\n",
    "        if metric in df.columns:\n",
    "            # Dodaj samo metrike koje imaju trening vrednosti (validacione će biti automatski dodate)\n",
    "            existing_metrics.append(metric)\n",
    "\n",
    "    if 'lr' in df.columns:\n",
    "        existing_metrics.append('lr')\n",
    "\n",
    "    num_plots = len(existing_metrics)\n",
    "    if num_plots == 0:\n",
    "        print(\"Upozorenje: Nisu pronađene validne kolone metrika za plotovanje.\")\n",
    "        return\n",
    "\n",
    "    cols = math.ceil(math.sqrt(num_plots))\n",
    "    rows = math.ceil(num_plots / cols)\n",
    "\n",
    "    plt.figure(figsize=(cols * 6, rows * 4)) \n",
    "    \n",
    "    # 4. Prolazak kroz metrike i plotovanje\n",
    "    for i, metric_name in enumerate(existing_metrics):\n",
    "        \n",
    "        ax = plt.subplot(rows, cols, i + 1)\n",
    "        \n",
    "        title_name = metric_name.replace(\"_\", \" \").title()\n",
    "        \n",
    "        # Plot za Learning Rate\n",
    "        if metric_name == 'lr':\n",
    "            sns.lineplot(data=df, x=df.index, y='lr', label='Learning Rate', ax=ax)\n",
    "            ax.set_title(f'Stopa Učenja (Learning Rate)')\n",
    "            ax.set_ylabel('Learning Rate')\n",
    "        \n",
    "        # Plot za Trening/Validaciju metrike\n",
    "        else:\n",
    "            \n",
    "            sns.lineplot(data=df, x=df.index, y=metric_name, label=f'Trening {title_name}', ax=ax)\n",
    "            \n",
    "            \n",
    "            val_col = f'val_{metric_name}'\n",
    "            if val_col in df.columns:\n",
    "                sns.lineplot(data=df, x=df.index, y=val_col, label=f'Validacija {title_name}', ax=ax)\n",
    "            \n",
    "            ax.set_title(f'{title_name} tokom Treninga')\n",
    "            ax.set_ylabel(title_name)\n",
    "\n",
    "        # Postavljanje zajedničkih elemenata za sve subplotove\n",
    "        ax.set_xlabel('Epoha')\n",
    "        ax.legend()\n",
    "        ax.grid(True)\n",
    "\n",
    "    plt.tight_layout() # Automatski podešava subplotove da se ne preklapaju\n",
    "    \n",
    "    output_dir = os.path.dirname(output_path)\n",
    "    if output_dir:\n",
    "        os.makedirs(output_dir, exist_ok=True)\n",
    "    \n",
    "    plt.savefig(output_path)\n",
    "    print(f\"\\nSačuvan sveobuhvatni grafikon metrika na: {output_path}\")\n",
    "    plt.close()\n"
   ]
  },
  {
   "cell_type": "code",
   "execution_count": 6,
   "id": "8b6036d2",
   "metadata": {},
   "outputs": [
    {
     "name": "stdout",
     "output_type": "stream",
     "text": [
      "\n",
      "Sačuvan sveobuhvatni grafikon metrika na: /home/ivana-milutinovic/Documents/Doktorske/BIORad/GitHub/BIO-info-multiclass/output_plots_graphs_only/gcn\n"
     ]
    }
   ],
   "source": [
    "csv_file = '/home/ivana-milutinovic/Documents/Doktorske/BIORad/GitHub/BIO-info-multiclass/final_results_graphs_only/gcn/gcn_history-max-e50.csv' \n",
    "    \n",
    "output_directory_for_plots = '/home/ivana-milutinovic/Documents/Doktorske/BIORad/GitHub/BIO-info-multiclass/output_plots_graphs_only/gcn' \n",
    "\n",
    "plot_training_metrics_subplots(csv_file, output_directory_for_plots)"
   ]
  },
  {
   "cell_type": "code",
   "execution_count": 7,
   "id": "d7ccf5e7",
   "metadata": {},
   "outputs": [
    {
     "name": "stdout",
     "output_type": "stream",
     "text": [
      "\n",
      "Sačuvan sveobuhvatni grafikon metrika na: /home/ivana-milutinovic/Documents/Doktorske/BIORad/GitHub/BIO-info-multiclass/output_plots_graphs_only/gSage\n"
     ]
    }
   ],
   "source": [
    "csv_file = '/home/ivana-milutinovic/Documents/Doktorske/BIORad/GitHub/BIO-info-multiclass/final_results_graphs_only/gSage/gSage_model-e50.csv' \n",
    "    \n",
    "output_directory_for_plots = '/home/ivana-milutinovic/Documents/Doktorske/BIORad/GitHub/BIO-info-multiclass/output_plots_graphs_only/gSage' \n",
    "\n",
    "plot_training_metrics_subplots(csv_file, output_directory_for_plots)"
   ]
  },
  {
   "cell_type": "code",
   "execution_count": 8,
   "id": "89499e18",
   "metadata": {},
   "outputs": [
    {
     "name": "stdout",
     "output_type": "stream",
     "text": [
      "\n",
      "Sačuvan sveobuhvatni grafikon metrika na: /home/ivana-milutinovic/Documents/Doktorske/BIORad/GitHub/BIO-info-multiclass/output_plots_graphs_only/gin\n"
     ]
    }
   ],
   "source": [
    "csv_file = '/home/ivana-milutinovic/Documents/Doktorske/BIORad/GitHub/BIO-info-multiclass/final_results_graphs_only/gin/gin_history-e50.csv' \n",
    "    \n",
    "output_directory_for_plots = '/home/ivana-milutinovic/Documents/Doktorske/BIORad/GitHub/BIO-info-multiclass/output_plots_graphs_only/gin' \n",
    "\n",
    "plot_training_metrics_subplots(csv_file, output_directory_for_plots)"
   ]
  },
  {
   "cell_type": "code",
   "execution_count": 9,
   "id": "50551aa7",
   "metadata": {},
   "outputs": [
    {
     "name": "stdout",
     "output_type": "stream",
     "text": [
      "\n",
      "Sačuvan sveobuhvatni grafikon metrika na: /home/ivana-milutinovic/Documents/Doktorske/BIORad/GitHub/BIO-info-multiclass/output_plots+g+f/gat\n"
     ]
    }
   ],
   "source": [
    "csv_file = '/home/ivana-milutinovic/Documents/Doktorske/BIORad/GitHub/BIO-info-multiclass/final_results/gat/gat_history_e50.csv' \n",
    "    \n",
    "output_directory_for_plots = '/home/ivana-milutinovic/Documents/Doktorske/BIORad/GitHub/BIO-info-multiclass/output_plots+g+f/gat' \n",
    "\n",
    "plot_training_metrics_subplots(csv_file, output_directory_for_plots)"
   ]
  },
  {
   "cell_type": "code",
   "execution_count": 7,
   "id": "24f5a5ad",
   "metadata": {},
   "outputs": [],
   "source": [
    "import pandas as pd\n",
    "import matplotlib.pyplot as plt\n",
    "import os\n",
    "\n",
    "def plot_optuna_res(csv_path: str, save_directory: str, plot_name:str):\n",
    "    \n",
    "    METRIKE = ['loss', 'f1_score', 'val_loss', 'val_f1_score'] \n",
    "    \n",
    "    try:\n",
    "        # Učitavanje podataka\n",
    "        df = pd.read_csv(csv_path)\n",
    "        \n",
    "        # Provera da li su sve potrebne kolone prisutne\n",
    "        missing_cols = [col for col in METRIKE if col not in df.columns]\n",
    "        if missing_cols:\n",
    "            print(f\"Greška: Sledeće kolone nedostaju u fajlu '{csv_path}': {missing_cols}\")\n",
    "            print(f\"Dostupne kolone su: {df.columns.tolist()}\")\n",
    "            return # Prekida izvršavanje funkcije\n",
    "        \n",
    "        # Kreiranje figure i subplota\n",
    "        fig, axes = plt.subplots(nrows=2, ncols=2, figsize=(14, 10))\n",
    "        fig.suptitle('Metrike treniranja modela po epohama', fontsize=16)\n",
    "        \n",
    "        # Flatten 2x2 matricu subplota u listu radi lakše iteracije\n",
    "        axes = axes.flatten() \n",
    "        \n",
    "        for i, metric in enumerate(METRIKE):\n",
    "            # Određivanje naslova i boje\n",
    "            if 'loss' in metric:\n",
    "                title_prefix = 'Gubitak (Loss)'\n",
    "                boja = 'tab:red' if 'val' not in metric else 'tab:orange'\n",
    "            elif 'f1_score' in metric:\n",
    "                title_prefix = 'F1-mera (F1-Score)'\n",
    "                boja = 'tab:blue' if 'val' not in metric else 'tab:green'\n",
    "            \n",
    "            set_type = 'Validacija' if 'val' in metric else 'Trening'\n",
    "            \n",
    "            # Crtanje linijskog grafa (x-osa su indeksi = epohe)\n",
    "            axes[i].plot(df.index, df[metric], label=metric, color=boja)\n",
    "            \n",
    "            # Postavljanje naslova i labele\n",
    "            axes[i].set_title(f\"{title_prefix} na {set_type} setu\")\n",
    "            axes[i].set_xlabel('Epoha')\n",
    "            axes[i].set_ylabel(metric.capitalize())\n",
    "            axes[i].grid(True, linestyle='--', alpha=0.6)\n",
    "            axes[i].legend()\n",
    "\n",
    "        # Automatsko prilagođavanje prostora između subplota\n",
    "        plt.tight_layout(rect=[0, 0.03, 1, 0.95])\n",
    "        \n",
    "        # --- ČUVANJE SLIKE ---\n",
    "        \n",
    "        # Kreiranje direktorijuma ako ne postoji\n",
    "        os.makedirs(save_directory, exist_ok=True)\n",
    "        \n",
    "        # Definicija putanje za čuvanje fajla\n",
    "        file_name = f'{plot_name}.png'\n",
    "        save_path = os.path.join(save_directory, file_name)\n",
    "        \n",
    "        # Čuvanje\n",
    "        plt.savefig(save_path)\n",
    "        plt.close(fig) # Zatvaranje figure da se oslobodi memorija\n",
    "        \n",
    "        print(f\"Uspešno sačuvano: {save_path}\")\n",
    "\n",
    "    except FileNotFoundError:\n",
    "        print(f\"Greška: CSV fajl nije pronađen na putanji: {csv_path}\")\n",
    "    except pd.errors.EmptyDataError:\n",
    "        print(f\"Greška: CSV fajl je prazan: {csv_path}\")\n",
    "    except Exception as e:\n",
    "        print(f\"Došlo je do neočekivane greške: {e}\")"
   ]
  },
  {
   "cell_type": "code",
   "execution_count": 8,
   "id": "2ca9e3c8",
   "metadata": {},
   "outputs": [
    {
     "name": "stdout",
     "output_type": "stream",
     "text": [
      "Uspešno sačuvano: /home/ivana-milutinovic/Documents/Doktorske/BIORad/bio-inf-all_data/optuna_csvs/plots/optuna_plots.png\n"
     ]
    }
   ],
   "source": [
    "optuna_csv_gat = '/home/ivana-milutinovic/Documents/Doktorske/BIORad/bio-inf-all_data/optuna_csvs/history_results_11.csv'\n",
    "output_dir_plots = '/home/ivana-milutinovic/Documents/Doktorske/BIORad/bio-inf-all_data/optuna_csvs/plots'\n",
    "plot_optuna_res(optuna_csv_gat, output_dir_plots, 'optuna_plots')"
   ]
  }
 ],
 "metadata": {
  "kernelspec": {
   "display_name": "base",
   "language": "python",
   "name": "python3"
  },
  "language_info": {
   "codemirror_mode": {
    "name": "ipython",
    "version": 3
   },
   "file_extension": ".py",
   "mimetype": "text/x-python",
   "name": "python",
   "nbconvert_exporter": "python",
   "pygments_lexer": "ipython3",
   "version": "3.13.0"
  }
 },
 "nbformat": 4,
 "nbformat_minor": 5
}
